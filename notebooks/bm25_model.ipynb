{
  "nbformat": 4,
  "nbformat_minor": 0,
  "metadata": {
    "colab": {
      "name": "bm25_model.ipynb",
      "provenance": []
    },
    "kernelspec": {
      "name": "python3",
      "display_name": "Python 3"
    },
    "language_info": {
      "name": "python"
    }
  },
  "cells": [
    {
      "cell_type": "markdown",
      "source": [
        "**Reference**\n",
        "\n",
        "---\n",
        "\n",
        "Mainly refered from the following link -- https://github.com/kriz17/Home-Depot-Product-Search-Relevance/blob/master/Extension/bm25.ipynb"
      ],
      "metadata": {
        "id": "CiVouPc9NQ3a"
      }
    },
    {
      "cell_type": "code",
      "execution_count": null,
      "metadata": {
        "colab": {
          "base_uri": "https://localhost:8080/"
        },
        "id": "Gw_kVrKWae2_",
        "outputId": "fd0b8394-e569-4384-caf7-f635afb179f9"
      },
      "outputs": [
        {
          "output_type": "stream",
          "name": "stdout",
          "text": [
            "[nltk_data] Downloading package stopwords to /root/nltk_data...\n",
            "[nltk_data]   Package stopwords is already up-to-date!\n"
          ]
        }
      ],
      "source": [
        "import pandas as pd\n",
        "import numpy as np\n",
        "import regex as re\n",
        "import nltk\n",
        "nltk.download('stopwords')\n",
        "from nltk.corpus import stopwords\n",
        "import warnings\n",
        "warnings.filterwarnings('ignore')\n",
        "from collections import Counter"
      ]
    },
    {
      "cell_type": "code",
      "source": [
        "from google.colab import drive"
      ],
      "metadata": {
        "id": "dQyxGKddavV0"
      },
      "execution_count": null,
      "outputs": []
    },
    {
      "cell_type": "code",
      "source": [
        "drive.mount('/gdrive')"
      ],
      "metadata": {
        "colab": {
          "base_uri": "https://localhost:8080/"
        },
        "id": "OW9NAquCayZV",
        "outputId": "e5089a62-6b77-41f6-c9d8-5817f89c30f0"
      },
      "execution_count": null,
      "outputs": [
        {
          "output_type": "stream",
          "name": "stdout",
          "text": [
            "Drive already mounted at /gdrive; to attempt to forcibly remount, call drive.mount(\"/gdrive\", force_remount=True).\n"
          ]
        }
      ]
    },
    {
      "cell_type": "code",
      "source": [
        "train_data_path = '/gdrive/MyDrive/ColabNotebooks/thesis/dataset/train.csv'\n",
        "prod_desc_path='/gdrive/MyDrive/ColabNotebooks/thesis/dataset/product_descriptions.csv'\n",
        "attr_path='/gdrive/MyDrive/ColabNotebooks/thesis/dataset/attributes.csv'\n",
        "test_data_path= '/gdrive/MyDrive/ColabNotebooks/thesis/dataset/test.csv'"
      ],
      "metadata": {
        "id": "idE2PNIHa38I"
      },
      "execution_count": null,
      "outputs": []
    },
    {
      "cell_type": "code",
      "source": [
        "df_train=pd.read_csv(train_data_path,encoding = \"ISO-8859-1\")\n",
        "df_pd_desc=pd.read_csv(prod_desc_path)\n",
        "df_attributes=pd.read_csv(attr_path)\n",
        "df_test=pd.read_csv(test_data_path,encoding = \"ISO-8859-1\")"
      ],
      "metadata": {
        "id": "vFcX2KgHa8JY"
      },
      "execution_count": null,
      "outputs": []
    },
    {
      "cell_type": "markdown",
      "source": [
        "***Merge all the data set***\n",
        "\n",
        "---\n",
        "This is to create the corpus with all the available data set\n"
      ],
      "metadata": {
        "id": "vC6UHNtEa_DT"
      }
    },
    {
      "cell_type": "code",
      "source": [
        "def merge_attri(df):\n",
        "  product_uids = df['product_uid'].values\n",
        "  temp = df_attributes.loc[df_attributes['product_uid'].isin(product_uids)].fillna('')  \n",
        "  temp['name_value'] = temp['name'] + ' ' + temp['value']\n",
        "  temp['combined_attr'] = temp.groupby(['product_uid'])['name_value'].transform(lambda x: ' '.join(x))\n",
        "  temp = temp.drop_duplicates('product_uid')[['product_uid', 'combined_attr']]\n",
        "  df = pd.merge(df, temp, on='product_uid', how='left').set_index(df.index)\n",
        "  return df\n",
        "\n",
        "def merge_brand(df):\n",
        "  product_uids = df['product_uid'].values\n",
        "  temp = df_attributes.loc[df_attributes['product_uid'].isin(product_uids)]  \n",
        "  brands = temp[temp['name']=='MFG Brand Name']\n",
        "  brands_temp = brands[['product_uid','value']]\n",
        "  df = pd.merge(df, brands_temp, on='product_uid', how='left').set_index(df.index)\n",
        "  df.rename(columns = {'value':'brand'}, inplace = True) \n",
        "  return df\n",
        "\n",
        "def merge_desc(df):\n",
        "  df = pd.merge(df, df_pd_desc, on='product_uid', how='left').set_index(df.index)\n",
        "  #an extra preprocessing step is performed to seperate the concatenated words in the description. \n",
        "  df['product_description'] = df['product_description'].apply(lambda x: ' '.join(re.findall(r'[A-Z]?[^A-Z\\s]+|[A-Z]+', x)))\n",
        "  return df"
      ],
      "metadata": {
        "id": "AECdE_2PbBXL"
      },
      "execution_count": null,
      "outputs": []
    },
    {
      "cell_type": "code",
      "source": [
        "df_train = merge_attri(df_train)\n",
        "df_train = merge_brand(df_train)\n",
        "df_train = merge_desc(df_train)\n",
        "\n",
        "df_test = merge_attri(df_test)\n",
        "df_test = merge_brand(df_test)\n",
        "df_test = merge_desc(df_test)\n",
        "\n",
        "df_train = df_train.drop('relevance', axis=1)\n",
        "\n",
        "df_combined = pd.concat([df_train, df_test], axis=0).reset_index()\n",
        "df_combined = df_combined.drop_duplicates('product_uid')\n",
        "print(df_combined.shape)\n",
        "df_combined.isna().sum()"
      ],
      "metadata": {
        "colab": {
          "base_uri": "https://localhost:8080/"
        },
        "id": "ySwK_FbhbHPU",
        "outputId": "0b7d93a5-9761-4c02-d434-89d25b00f939"
      },
      "execution_count": null,
      "outputs": [
        {
          "output_type": "stream",
          "name": "stdout",
          "text": [
            "(124428, 8)\n"
          ]
        },
        {
          "output_type": "execute_result",
          "data": {
            "text/plain": [
              "index                      0\n",
              "id                         0\n",
              "product_uid                0\n",
              "product_title              0\n",
              "search_term                0\n",
              "combined_attr          38165\n",
              "brand                  38243\n",
              "product_description        0\n",
              "dtype: int64"
            ]
          },
          "metadata": {},
          "execution_count": 7
        }
      ]
    },
    {
      "cell_type": "markdown",
      "source": [
        "***Basic pre-processing :Fill Null Values***"
      ],
      "metadata": {
        "id": "FyPg5dXGb1Av"
      }
    },
    {
      "cell_type": "code",
      "source": [
        "def first_n(n, sent):\n",
        "  if n > len(sent.split()):\n",
        "    return 'error101'\n",
        "  return ' '.join(sent.split()[:n])\n",
        "\n",
        "def fillna_brand(data, unique_brnds):\n",
        "  null_df = data[data['brand'].isnull()]\n",
        "  notnull_df = data.dropna()\n",
        "\n",
        "  for i, row in null_df.iterrows():\n",
        "    title = row['product_title']\n",
        "    if first_n(4, title) in unique_brnds:\n",
        "      null_df['brand'].loc[i] = first_n(4, title)\n",
        "    elif first_n(3, title) in unique_brnds:\n",
        "      null_df['brand'].loc[i] = first_n(3, title)\n",
        "    elif first_n(2, title) in unique_brnds:\n",
        "      null_df['brand'].loc[i] = first_n(2, title)\n",
        "    else:\n",
        "      null_df['brand'].loc[i] = first_n(1, title)\n",
        "\n",
        "  data['brand'].loc[null_df.index] = null_df['brand'].values\n",
        "  return data\n",
        "\n",
        "def fillna_attributes(data):\n",
        "  null_df = data[data['combined_attr'].isnull()]\n",
        "  null_df['combined_attr'] = null_df['product_description'].copy()\n",
        "  data['combined_attr'].loc[null_df.index] = null_df['combined_attr'].values\n",
        "  return data\n",
        "\n",
        "unique_brands = list(df_combined['brand'].unique())\n",
        "print(len(unique_brands))\n",
        "\n",
        "df_combined = fillna_brand(df_combined, unique_brands)\n",
        "df_combined = fillna_attributes(df_combined)\n",
        "\n",
        "df_combined.isna().sum()"
      ],
      "metadata": {
        "colab": {
          "base_uri": "https://localhost:8080/"
        },
        "id": "TacdhbUCb3cs",
        "outputId": "12417bd3-1b32-46ff-89e1-f452abd97187"
      },
      "execution_count": null,
      "outputs": [
        {
          "output_type": "stream",
          "name": "stdout",
          "text": [
            "4289\n"
          ]
        },
        {
          "output_type": "execute_result",
          "data": {
            "text/plain": [
              "index                  0\n",
              "id                     0\n",
              "product_uid            0\n",
              "product_title          0\n",
              "search_term            0\n",
              "combined_attr          0\n",
              "brand                  0\n",
              "product_description    0\n",
              "dtype: int64"
            ]
          },
          "metadata": {},
          "execution_count": 8
        }
      ]
    },
    {
      "cell_type": "markdown",
      "source": [
        "***Text field is being created by merging all the columns ***"
      ],
      "metadata": {
        "id": "Nc2i_HMqcElY"
      }
    },
    {
      "cell_type": "code",
      "source": [
        "df_combined['text'] = df_combined['product_title'] + ' ' + df_combined['brand'] + ' ' + df_combined['product_description']\n",
        "temp = df_combined.drop(['index', 'id', 'search_term'], axis=1)\n",
        "print(temp.shape)\n",
        "temp.head()"
      ],
      "metadata": {
        "colab": {
          "base_uri": "https://localhost:8080/",
          "height": 225
        },
        "id": "aPwOSCSAcJU3",
        "outputId": "b1881a9e-ff3a-4f0b-9bee-e9a1193e8937"
      },
      "execution_count": null,
      "outputs": [
        {
          "output_type": "stream",
          "name": "stdout",
          "text": [
            "(124428, 6)\n"
          ]
        },
        {
          "output_type": "execute_result",
          "data": {
            "text/html": [
              "\n",
              "  <div id=\"df-aead9c48-1f0c-4310-b6e1-c911d23cad7c\">\n",
              "    <div class=\"colab-df-container\">\n",
              "      <div>\n",
              "<style scoped>\n",
              "    .dataframe tbody tr th:only-of-type {\n",
              "        vertical-align: middle;\n",
              "    }\n",
              "\n",
              "    .dataframe tbody tr th {\n",
              "        vertical-align: top;\n",
              "    }\n",
              "\n",
              "    .dataframe thead th {\n",
              "        text-align: right;\n",
              "    }\n",
              "</style>\n",
              "<table border=\"1\" class=\"dataframe\">\n",
              "  <thead>\n",
              "    <tr style=\"text-align: right;\">\n",
              "      <th></th>\n",
              "      <th>product_uid</th>\n",
              "      <th>product_title</th>\n",
              "      <th>combined_attr</th>\n",
              "      <th>brand</th>\n",
              "      <th>product_description</th>\n",
              "      <th>text</th>\n",
              "    </tr>\n",
              "  </thead>\n",
              "  <tbody>\n",
              "    <tr>\n",
              "      <th>0</th>\n",
              "      <td>100001</td>\n",
              "      <td>Simpson Strong-Tie 12-Gauge Angle</td>\n",
              "      <td>Bullet01 Versatile connector for various 90° c...</td>\n",
              "      <td>Simpson Strong-Tie</td>\n",
              "      <td>Not only do angles make joints stronger, they ...</td>\n",
              "      <td>Simpson Strong-Tie 12-Gauge Angle Simpson Stro...</td>\n",
              "    </tr>\n",
              "    <tr>\n",
              "      <th>2</th>\n",
              "      <td>100002</td>\n",
              "      <td>BEHR Premium Textured DeckOver 1-gal. #SC-141 ...</td>\n",
              "      <td>Application Method Brush,Roller,Spray Assemble...</td>\n",
              "      <td>BEHR Premium Textured DeckOver</td>\n",
              "      <td>BEHR Premium Textured DECKOVER is an innovativ...</td>\n",
              "      <td>BEHR Premium Textured DeckOver 1-gal. #SC-141 ...</td>\n",
              "    </tr>\n",
              "    <tr>\n",
              "      <th>3</th>\n",
              "      <td>100005</td>\n",
              "      <td>Delta Vero 1-Handle Shower Only Faucet Trim Ki...</td>\n",
              "      <td>Bath Faucet Type Combo Tub and Shower Built-in...</td>\n",
              "      <td>Delta</td>\n",
              "      <td>Update your bathroom with the Delta Vero Singl...</td>\n",
              "      <td>Delta Vero 1-Handle Shower Only Faucet Trim Ki...</td>\n",
              "    </tr>\n",
              "    <tr>\n",
              "      <th>5</th>\n",
              "      <td>100006</td>\n",
              "      <td>Whirlpool 1.9 cu. ft. Over the Range Convectio...</td>\n",
              "      <td>Appliance Type Over the Range Microwave Assemb...</td>\n",
              "      <td>Whirlpool</td>\n",
              "      <td>Achieving delicious results is almost effortle...</td>\n",
              "      <td>Whirlpool 1.9 cu. ft. Over the Range Convectio...</td>\n",
              "    </tr>\n",
              "    <tr>\n",
              "      <th>8</th>\n",
              "      <td>100007</td>\n",
              "      <td>Lithonia Lighting Quantum 2-Light Black LED Em...</td>\n",
              "      <td>Battery Power Type Ni-Cad Battery Size .Built-...</td>\n",
              "      <td>Lithonia Lighting</td>\n",
              "      <td>The Quantum Adjustable 2- Light LED Black Emer...</td>\n",
              "      <td>Lithonia Lighting Quantum 2-Light Black LED Em...</td>\n",
              "    </tr>\n",
              "  </tbody>\n",
              "</table>\n",
              "</div>\n",
              "      <button class=\"colab-df-convert\" onclick=\"convertToInteractive('df-aead9c48-1f0c-4310-b6e1-c911d23cad7c')\"\n",
              "              title=\"Convert this dataframe to an interactive table.\"\n",
              "              style=\"display:none;\">\n",
              "        \n",
              "  <svg xmlns=\"http://www.w3.org/2000/svg\" height=\"24px\"viewBox=\"0 0 24 24\"\n",
              "       width=\"24px\">\n",
              "    <path d=\"M0 0h24v24H0V0z\" fill=\"none\"/>\n",
              "    <path d=\"M18.56 5.44l.94 2.06.94-2.06 2.06-.94-2.06-.94-.94-2.06-.94 2.06-2.06.94zm-11 1L8.5 8.5l.94-2.06 2.06-.94-2.06-.94L8.5 2.5l-.94 2.06-2.06.94zm10 10l.94 2.06.94-2.06 2.06-.94-2.06-.94-.94-2.06-.94 2.06-2.06.94z\"/><path d=\"M17.41 7.96l-1.37-1.37c-.4-.4-.92-.59-1.43-.59-.52 0-1.04.2-1.43.59L10.3 9.45l-7.72 7.72c-.78.78-.78 2.05 0 2.83L4 21.41c.39.39.9.59 1.41.59.51 0 1.02-.2 1.41-.59l7.78-7.78 2.81-2.81c.8-.78.8-2.07 0-2.86zM5.41 20L4 18.59l7.72-7.72 1.47 1.35L5.41 20z\"/>\n",
              "  </svg>\n",
              "      </button>\n",
              "      \n",
              "  <style>\n",
              "    .colab-df-container {\n",
              "      display:flex;\n",
              "      flex-wrap:wrap;\n",
              "      gap: 12px;\n",
              "    }\n",
              "\n",
              "    .colab-df-convert {\n",
              "      background-color: #E8F0FE;\n",
              "      border: none;\n",
              "      border-radius: 50%;\n",
              "      cursor: pointer;\n",
              "      display: none;\n",
              "      fill: #1967D2;\n",
              "      height: 32px;\n",
              "      padding: 0 0 0 0;\n",
              "      width: 32px;\n",
              "    }\n",
              "\n",
              "    .colab-df-convert:hover {\n",
              "      background-color: #E2EBFA;\n",
              "      box-shadow: 0px 1px 2px rgba(60, 64, 67, 0.3), 0px 1px 3px 1px rgba(60, 64, 67, 0.15);\n",
              "      fill: #174EA6;\n",
              "    }\n",
              "\n",
              "    [theme=dark] .colab-df-convert {\n",
              "      background-color: #3B4455;\n",
              "      fill: #D2E3FC;\n",
              "    }\n",
              "\n",
              "    [theme=dark] .colab-df-convert:hover {\n",
              "      background-color: #434B5C;\n",
              "      box-shadow: 0px 1px 3px 1px rgba(0, 0, 0, 0.15);\n",
              "      filter: drop-shadow(0px 1px 2px rgba(0, 0, 0, 0.3));\n",
              "      fill: #FFFFFF;\n",
              "    }\n",
              "  </style>\n",
              "\n",
              "      <script>\n",
              "        const buttonEl =\n",
              "          document.querySelector('#df-aead9c48-1f0c-4310-b6e1-c911d23cad7c button.colab-df-convert');\n",
              "        buttonEl.style.display =\n",
              "          google.colab.kernel.accessAllowed ? 'block' : 'none';\n",
              "\n",
              "        async function convertToInteractive(key) {\n",
              "          const element = document.querySelector('#df-aead9c48-1f0c-4310-b6e1-c911d23cad7c');\n",
              "          const dataTable =\n",
              "            await google.colab.kernel.invokeFunction('convertToInteractive',\n",
              "                                                     [key], {});\n",
              "          if (!dataTable) return;\n",
              "\n",
              "          const docLinkHtml = 'Like what you see? Visit the ' +\n",
              "            '<a target=\"_blank\" href=https://colab.research.google.com/notebooks/data_table.ipynb>data table notebook</a>'\n",
              "            + ' to learn more about interactive tables.';\n",
              "          element.innerHTML = '';\n",
              "          dataTable['output_type'] = 'display_data';\n",
              "          await google.colab.output.renderOutput(dataTable, element);\n",
              "          const docLink = document.createElement('div');\n",
              "          docLink.innerHTML = docLinkHtml;\n",
              "          element.appendChild(docLink);\n",
              "        }\n",
              "      </script>\n",
              "    </div>\n",
              "  </div>\n",
              "  "
            ],
            "text/plain": [
              "   product_uid  ...                                               text\n",
              "0       100001  ...  Simpson Strong-Tie 12-Gauge Angle Simpson Stro...\n",
              "2       100002  ...  BEHR Premium Textured DeckOver 1-gal. #SC-141 ...\n",
              "3       100005  ...  Delta Vero 1-Handle Shower Only Faucet Trim Ki...\n",
              "5       100006  ...  Whirlpool 1.9 cu. ft. Over the Range Convectio...\n",
              "8       100007  ...  Lithonia Lighting Quantum 2-Light Black LED Em...\n",
              "\n",
              "[5 rows x 6 columns]"
            ]
          },
          "metadata": {},
          "execution_count": 9
        }
      ]
    },
    {
      "cell_type": "code",
      "source": [
        "def standardize_units(text):\n",
        "  text = \" \" + text + \" \"\n",
        "  text = re.sub('( gal | gals | galon )',' gallon ',text)\n",
        "  text = re.sub('( ft | fts | feets | foot | foots )',' feet ',text)\n",
        "  text = re.sub('( squares | sq )',' square ',text)\n",
        "  text = re.sub('( lb | lbs | pounds )',' pound ',text)\n",
        "  text = re.sub('( oz | ozs | ounces | ounc )',' ounce ',text)\n",
        "  text = re.sub('( yds | yd | yards )',' yard ',text)\n",
        "  return text\n",
        "\n",
        "def preprocessing(sent):\n",
        "  sent = sent.replace('in.', ' inch ') #If we dont to this then 'in.' will be turned to 'in' in the next step\n",
        "  words = re.split(r'\\W+', sent)\n",
        "  words = [word.lower() for word in words]\n",
        "  res = re.sub(\"[A-Za-z]+\", lambda ele: \" \" + ele[0] + \" \", ' '.join(words)) #add space between number and alphabets in a string\n",
        "  cleaned = standardize_units(res) \n",
        "  cleaned = ' '.join(cleaned.split()) #removing extra whitespaces\n",
        "  return cleaned\n",
        "\n",
        "temp['text'] = temp['text'].apply(lambda x : preprocessing(x))\n",
        "temp.head()"
      ],
      "metadata": {
        "colab": {
          "base_uri": "https://localhost:8080/",
          "height": 206
        },
        "id": "EmlJYik-c70n",
        "outputId": "32682e7b-5d6f-4c0d-8156-9bd50610c138"
      },
      "execution_count": null,
      "outputs": [
        {
          "output_type": "execute_result",
          "data": {
            "text/html": [
              "\n",
              "  <div id=\"df-e70e62fc-37d3-4cac-abab-5c56ad9cba4f\">\n",
              "    <div class=\"colab-df-container\">\n",
              "      <div>\n",
              "<style scoped>\n",
              "    .dataframe tbody tr th:only-of-type {\n",
              "        vertical-align: middle;\n",
              "    }\n",
              "\n",
              "    .dataframe tbody tr th {\n",
              "        vertical-align: top;\n",
              "    }\n",
              "\n",
              "    .dataframe thead th {\n",
              "        text-align: right;\n",
              "    }\n",
              "</style>\n",
              "<table border=\"1\" class=\"dataframe\">\n",
              "  <thead>\n",
              "    <tr style=\"text-align: right;\">\n",
              "      <th></th>\n",
              "      <th>product_uid</th>\n",
              "      <th>product_title</th>\n",
              "      <th>combined_attr</th>\n",
              "      <th>brand</th>\n",
              "      <th>product_description</th>\n",
              "      <th>text</th>\n",
              "    </tr>\n",
              "  </thead>\n",
              "  <tbody>\n",
              "    <tr>\n",
              "      <th>0</th>\n",
              "      <td>100001</td>\n",
              "      <td>Simpson Strong-Tie 12-Gauge Angle</td>\n",
              "      <td>Bullet01 Versatile connector for various 90° c...</td>\n",
              "      <td>Simpson Strong-Tie</td>\n",
              "      <td>Not only do angles make joints stronger, they ...</td>\n",
              "      <td>simpson strong tie 12 gauge angle simpson stro...</td>\n",
              "    </tr>\n",
              "    <tr>\n",
              "      <th>2</th>\n",
              "      <td>100002</td>\n",
              "      <td>BEHR Premium Textured DeckOver 1-gal. #SC-141 ...</td>\n",
              "      <td>Application Method Brush,Roller,Spray Assemble...</td>\n",
              "      <td>BEHR Premium Textured DeckOver</td>\n",
              "      <td>BEHR Premium Textured DECKOVER is an innovativ...</td>\n",
              "      <td>behr premium textured deckover 1 gallon sc 141...</td>\n",
              "    </tr>\n",
              "    <tr>\n",
              "      <th>3</th>\n",
              "      <td>100005</td>\n",
              "      <td>Delta Vero 1-Handle Shower Only Faucet Trim Ki...</td>\n",
              "      <td>Bath Faucet Type Combo Tub and Shower Built-in...</td>\n",
              "      <td>Delta</td>\n",
              "      <td>Update your bathroom with the Delta Vero Singl...</td>\n",
              "      <td>delta vero 1 handle shower only faucet trim ki...</td>\n",
              "    </tr>\n",
              "    <tr>\n",
              "      <th>5</th>\n",
              "      <td>100006</td>\n",
              "      <td>Whirlpool 1.9 cu. ft. Over the Range Convectio...</td>\n",
              "      <td>Appliance Type Over the Range Microwave Assemb...</td>\n",
              "      <td>Whirlpool</td>\n",
              "      <td>Achieving delicious results is almost effortle...</td>\n",
              "      <td>whirlpool 1 9 cu feet over the range convectio...</td>\n",
              "    </tr>\n",
              "    <tr>\n",
              "      <th>8</th>\n",
              "      <td>100007</td>\n",
              "      <td>Lithonia Lighting Quantum 2-Light Black LED Em...</td>\n",
              "      <td>Battery Power Type Ni-Cad Battery Size .Built-...</td>\n",
              "      <td>Lithonia Lighting</td>\n",
              "      <td>The Quantum Adjustable 2- Light LED Black Emer...</td>\n",
              "      <td>lithonia lighting quantum 2 light black led em...</td>\n",
              "    </tr>\n",
              "  </tbody>\n",
              "</table>\n",
              "</div>\n",
              "      <button class=\"colab-df-convert\" onclick=\"convertToInteractive('df-e70e62fc-37d3-4cac-abab-5c56ad9cba4f')\"\n",
              "              title=\"Convert this dataframe to an interactive table.\"\n",
              "              style=\"display:none;\">\n",
              "        \n",
              "  <svg xmlns=\"http://www.w3.org/2000/svg\" height=\"24px\"viewBox=\"0 0 24 24\"\n",
              "       width=\"24px\">\n",
              "    <path d=\"M0 0h24v24H0V0z\" fill=\"none\"/>\n",
              "    <path d=\"M18.56 5.44l.94 2.06.94-2.06 2.06-.94-2.06-.94-.94-2.06-.94 2.06-2.06.94zm-11 1L8.5 8.5l.94-2.06 2.06-.94-2.06-.94L8.5 2.5l-.94 2.06-2.06.94zm10 10l.94 2.06.94-2.06 2.06-.94-2.06-.94-.94-2.06-.94 2.06-2.06.94z\"/><path d=\"M17.41 7.96l-1.37-1.37c-.4-.4-.92-.59-1.43-.59-.52 0-1.04.2-1.43.59L10.3 9.45l-7.72 7.72c-.78.78-.78 2.05 0 2.83L4 21.41c.39.39.9.59 1.41.59.51 0 1.02-.2 1.41-.59l7.78-7.78 2.81-2.81c.8-.78.8-2.07 0-2.86zM5.41 20L4 18.59l7.72-7.72 1.47 1.35L5.41 20z\"/>\n",
              "  </svg>\n",
              "      </button>\n",
              "      \n",
              "  <style>\n",
              "    .colab-df-container {\n",
              "      display:flex;\n",
              "      flex-wrap:wrap;\n",
              "      gap: 12px;\n",
              "    }\n",
              "\n",
              "    .colab-df-convert {\n",
              "      background-color: #E8F0FE;\n",
              "      border: none;\n",
              "      border-radius: 50%;\n",
              "      cursor: pointer;\n",
              "      display: none;\n",
              "      fill: #1967D2;\n",
              "      height: 32px;\n",
              "      padding: 0 0 0 0;\n",
              "      width: 32px;\n",
              "    }\n",
              "\n",
              "    .colab-df-convert:hover {\n",
              "      background-color: #E2EBFA;\n",
              "      box-shadow: 0px 1px 2px rgba(60, 64, 67, 0.3), 0px 1px 3px 1px rgba(60, 64, 67, 0.15);\n",
              "      fill: #174EA6;\n",
              "    }\n",
              "\n",
              "    [theme=dark] .colab-df-convert {\n",
              "      background-color: #3B4455;\n",
              "      fill: #D2E3FC;\n",
              "    }\n",
              "\n",
              "    [theme=dark] .colab-df-convert:hover {\n",
              "      background-color: #434B5C;\n",
              "      box-shadow: 0px 1px 3px 1px rgba(0, 0, 0, 0.15);\n",
              "      filter: drop-shadow(0px 1px 2px rgba(0, 0, 0, 0.3));\n",
              "      fill: #FFFFFF;\n",
              "    }\n",
              "  </style>\n",
              "\n",
              "      <script>\n",
              "        const buttonEl =\n",
              "          document.querySelector('#df-e70e62fc-37d3-4cac-abab-5c56ad9cba4f button.colab-df-convert');\n",
              "        buttonEl.style.display =\n",
              "          google.colab.kernel.accessAllowed ? 'block' : 'none';\n",
              "\n",
              "        async function convertToInteractive(key) {\n",
              "          const element = document.querySelector('#df-e70e62fc-37d3-4cac-abab-5c56ad9cba4f');\n",
              "          const dataTable =\n",
              "            await google.colab.kernel.invokeFunction('convertToInteractive',\n",
              "                                                     [key], {});\n",
              "          if (!dataTable) return;\n",
              "\n",
              "          const docLinkHtml = 'Like what you see? Visit the ' +\n",
              "            '<a target=\"_blank\" href=https://colab.research.google.com/notebooks/data_table.ipynb>data table notebook</a>'\n",
              "            + ' to learn more about interactive tables.';\n",
              "          element.innerHTML = '';\n",
              "          dataTable['output_type'] = 'display_data';\n",
              "          await google.colab.output.renderOutput(dataTable, element);\n",
              "          const docLink = document.createElement('div');\n",
              "          docLink.innerHTML = docLinkHtml;\n",
              "          element.appendChild(docLink);\n",
              "        }\n",
              "      </script>\n",
              "    </div>\n",
              "  </div>\n",
              "  "
            ],
            "text/plain": [
              "   product_uid  ...                                               text\n",
              "0       100001  ...  simpson strong tie 12 gauge angle simpson stro...\n",
              "2       100002  ...  behr premium textured deckover 1 gallon sc 141...\n",
              "3       100005  ...  delta vero 1 handle shower only faucet trim ki...\n",
              "5       100006  ...  whirlpool 1 9 cu feet over the range convectio...\n",
              "8       100007  ...  lithonia lighting quantum 2 light black led em...\n",
              "\n",
              "[5 rows x 6 columns]"
            ]
          },
          "metadata": {},
          "execution_count": 10
        }
      ]
    },
    {
      "cell_type": "markdown",
      "source": [
        "***database for correction of search***"
      ],
      "metadata": {
        "id": "BYUxlRkAcjns"
      }
    },
    {
      "cell_type": "code",
      "source": [
        "temp['cleaned_title'] = temp['product_title'].apply(lambda x : preprocessing(x))\n",
        "temp['cleaned_brand'] = temp['brand'].apply(lambda x : preprocessing(x))\n",
        "corpus = temp['cleaned_title'] + \" \"  + temp['cleaned_brand'] \n",
        "\n",
        "#removing stopwords\n",
        "stp_wrds = set(stopwords.words('english'))\n",
        "def stop_word_removal(sent):\n",
        "  words = sent.split()\n",
        "  words = [w for w in words if not w in stp_wrds]\n",
        "  return ' '.join(words)\n",
        "\n",
        "corpus = corpus.apply(lambda x : stop_word_removal(x)) \n",
        "np.savetxt(r'/gdrive/MyDrive/ColabNotebooks/thesis/final_model/corpus.txt', corpus.values, fmt='%s')"
      ],
      "metadata": {
        "id": "b_D7wH0vcnti"
      },
      "execution_count": null,
      "outputs": []
    },
    {
      "cell_type": "markdown",
      "source": [
        "***Test for spell corrector***"
      ],
      "metadata": {
        "id": "zb8JJgv-eRZR"
      }
    },
    {
      "cell_type": "code",
      "source": [
        "#http://norvig.com/spell-correct.html\n",
        "def words(text): return re.findall(r'\\w+', text.lower())\n",
        "WORDS = Counter(words(open('/gdrive/MyDrive/ColabNotebooks/thesis/final_model/corpus.txt').read()))\n",
        "\n",
        "def P(word, N=sum(WORDS.values())): \n",
        "    \"Probability of `word`.\"\n",
        "    return WORDS[word] / N\n",
        "def correction(word): \n",
        "    \"Most probable spelling correction for word.\"\n",
        "    return max(candidates(word), key=P)\n",
        "def candidates(word): \n",
        "    \"Generate possible spelling corrections for word.\"\n",
        "    return (known([word]) or known(edits1(word)) or known(edits2(word)) or set([word]))\n",
        "def known(words): \n",
        "    \"The subset of `words` that appear in the dictionary of WORDS.\"\n",
        "    return set(w for w in words if w in WORDS)\n",
        "def edits1(word):\n",
        "    \"All edits that are one edit away from `word`.\"\n",
        "    letters    = 'abcdefghijklmnopqrstuvwxyz'\n",
        "    splits     = [(word[:i], word[i:])    for i in range(len(word) + 1)]\n",
        "    deletes    = [L + R[1:]               for L, R in splits if R]\n",
        "    transposes = [L + R[1] + R[0] + R[2:] for L, R in splits if len(R)>1]\n",
        "    replaces   = [L + c + R[1:]           for L, R in splits if R for c in letters]\n",
        "    inserts    = [L + c + R               for L, R in splits for c in letters]\n",
        "    return set(deletes + transposes + replaces + inserts)\n",
        "def edits2(word): \n",
        "    \"All edits that are two edits away from `word`.\"\n",
        "    return (e2 for e1 in edits1(word) for e2 in edits1(e1))\n",
        "def corrected_term(term):\n",
        "  temp = term.lower().split()\n",
        "  temp = [correction(word) for word in temp]\n",
        "  return ' '.join(temp)"
      ],
      "metadata": {
        "id": "b-JdrJk0eUhj"
      },
      "execution_count": null,
      "outputs": []
    },
    {
      "cell_type": "code",
      "source": [
        "for typo in [\n",
        "             'air conditionar', \n",
        "             'toiled',\n",
        "             'lawn mowe',\n",
        "             'water heatwr'\n",
        "]:\n",
        "  print(corrected_term(typo))"
      ],
      "metadata": {
        "colab": {
          "base_uri": "https://localhost:8080/"
        },
        "id": "WWggNWlOedo2",
        "outputId": "9485c7ad-9cce-4472-f80c-b79a52212a4a"
      },
      "execution_count": null,
      "outputs": [
        {
          "output_type": "stream",
          "name": "stdout",
          "text": [
            "air conditioner\n",
            "toilet\n",
            "lawn mower\n",
            "water heater\n"
          ]
        }
      ]
    },
    {
      "cell_type": "code",
      "source": [
        "temp=temp.drop(['cleaned_title', 'cleaned_brand'], axis=1).to_csv('/gdrive/MyDrive/ColabNotebooks/thesis/corrected/model/database.csv', index=False)"
      ],
      "metadata": {
        "id": "jRne-lSNejOd"
      },
      "execution_count": null,
      "outputs": []
    },
    {
      "cell_type": "code",
      "source": [
        "# db=pd.read_csv('/gdrive/MyDrive/ColabNotebooks/thesis/corrected/model/database.csv',encoding = \"ISO-8859-1\")"
      ],
      "metadata": {
        "id": "BBwOdnsYsyk7"
      },
      "execution_count": null,
      "outputs": []
    },
    {
      "cell_type": "code",
      "source": [
        "#https://stackoverflow.com/questions/57983431/whats-the-most-space-efficient-way-to-compress-serialized-python-data"
      ],
      "metadata": {
        "id": "WtTbFxuZtZgH"
      },
      "execution_count": null,
      "outputs": []
    },
    {
      "cell_type": "code",
      "source": [
        "# import pickle\n",
        "# import lzma\n",
        "# with lzma.open(\"/gdrive/MyDrive/ColabNotebooks/thesis/corrected/model/database.xz\", \"wb\") as f:\n",
        "#     pickle.dump(db, f)"
      ],
      "metadata": {
        "id": "BjQrDcPGsRMZ"
      },
      "execution_count": null,
      "outputs": []
    },
    {
      "cell_type": "code",
      "source": [
        "# with lzma.open(\"/gdrive/MyDrive/ColabNotebooks/thesis/corrected/model/database.xz\") as f:\n",
        "#     file_content = f.read()"
      ],
      "metadata": {
        "id": "TYK-fQlmvaSL"
      },
      "execution_count": null,
      "outputs": []
    },
    {
      "cell_type": "code",
      "source": [
        "# print(type(file_content))"
      ],
      "metadata": {
        "id": "HosHbWODyl8n"
      },
      "execution_count": null,
      "outputs": []
    },
    {
      "cell_type": "code",
      "source": [
        "# import gzip\n",
        "# # content = b\"Lots of content here\"\n",
        "# # with gzip.open('/home/joe/file.txt.gz', 'wb') as f:\n",
        "# #     f.write(content)\n",
        "\n",
        "# # with gzip.open('/gdrive/MyDrive/ColabNotebooks/thesis/corrected/model/database.csv.gz', 'wb') as f:\n",
        "# #     f.write(temp)\n",
        "# def save_zipped_pickle(obj, filename, protocol=-1):\n",
        "#     with gzip.open('/gdrive/MyDrive/ColabNotebooks/thesis/corrected/model/db.pgz', 'wb') as f:\n",
        "#         cPickle.dump(obj, f, protocol)"
      ],
      "metadata": {
        "id": "zVOWq-kXp6fR"
      },
      "execution_count": null,
      "outputs": []
    },
    {
      "cell_type": "code",
      "source": [
        "# import pickle\n",
        "# with open('/gdrive/MyDrive/ColabNotebooks/thesis/final_model/database.pkl', 'wb') as f:\n",
        "#   pickle.dump(temp, f)\n",
        "# # temp.to_pickle()  # where to save it, usually as a .pkl"
      ],
      "metadata": {
        "id": "80UsxMZ0Hf_d"
      },
      "execution_count": null,
      "outputs": []
    },
    {
      "cell_type": "code",
      "source": [
        "# df = pd.read_pickle('/gdrive/MyDrive/ColabNotebooks/thesis/final_model/database.pkl')"
      ],
      "metadata": {
        "id": "-pSHQLljH2v1"
      },
      "execution_count": null,
      "outputs": []
    },
    {
      "cell_type": "code",
      "source": [
        "# temp.to_hdf('data.h5', key='df', mode='w')"
      ],
      "metadata": {
        "id": "EUpQbuhOJoWx"
      },
      "execution_count": null,
      "outputs": []
    },
    {
      "cell_type": "code",
      "source": [
        "# store = pd.HDFStore('store.h5')\n",
        "\n",
        "# store['temp'] = temp # save it\n"
      ],
      "metadata": {
        "id": "OUZUtv0wHDZa"
      },
      "execution_count": null,
      "outputs": []
    },
    {
      "cell_type": "code",
      "source": [
        "# store['temp']  # load it"
      ],
      "metadata": {
        "id": "r8RCp5vmHQlT"
      },
      "execution_count": null,
      "outputs": []
    },
    {
      "cell_type": "code",
      "source": [
        ""
      ],
      "metadata": {
        "id": "FlNWfXkhHZKE"
      },
      "execution_count": null,
      "outputs": []
    },
    {
      "cell_type": "markdown",
      "source": [
        "**Creating Rank BM25 model**"
      ],
      "metadata": {
        "id": "w3Ne6VBFepM3"
      }
    },
    {
      "cell_type": "code",
      "source": [
        "!pip install rank_bm25"
      ],
      "metadata": {
        "colab": {
          "base_uri": "https://localhost:8080/"
        },
        "id": "JGwqV69perCb",
        "outputId": "483830f5-c367-42fe-b40d-f4d7c38bf12b"
      },
      "execution_count": null,
      "outputs": [
        {
          "output_type": "stream",
          "name": "stdout",
          "text": [
            "Collecting rank_bm25\n",
            "  Downloading rank_bm25-0.2.2-py3-none-any.whl (8.6 kB)\n",
            "Requirement already satisfied: numpy in /usr/local/lib/python3.7/dist-packages (from rank_bm25) (1.21.5)\n",
            "Installing collected packages: rank-bm25\n",
            "Successfully installed rank-bm25-0.2.2\n"
          ]
        }
      ]
    },
    {
      "cell_type": "code",
      "source": [
        "from rank_bm25 import BM25Okapi\n",
        "corpus = temp['text'].values\n",
        "token_corpus = [doc.split(\" \") for doc in corpus]\n",
        "bm25 = BM25Okapi(token_corpus)"
      ],
      "metadata": {
        "id": "UARcHG7Tetz8"
      },
      "execution_count": null,
      "outputs": []
    },
    {
      "cell_type": "code",
      "source": [
        "import pickle\n",
        "with open('/gdrive/MyDrive/ColabNotebooks/thesis/final_model/BM25_model.pkl', 'wb') as f:\n",
        "  pickle.dump(bm25, f)"
      ],
      "metadata": {
        "id": "OPmhr9FQhU26"
      },
      "execution_count": null,
      "outputs": []
    }
  ]
}